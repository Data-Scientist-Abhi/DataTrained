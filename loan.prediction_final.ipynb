{
 "cells": [
  {
   "cell_type": "markdown",
   "id": "d0dca7d9",
   "metadata": {},
   "source": [
    "# Loan Application Status Prediction\n",
    "\n",
    "This loanset includes details of applicants who have applied for loan. The loanset includes details like credit history, loan amount, their income, dependents etc."
   ]
  },
  {
   "cell_type": "code",
   "execution_count": 1,
   "id": "7989d432",
   "metadata": {},
   "outputs": [],
   "source": [
    "import pandas as pd # use to load the loanset\n",
    "import numpy as np # use to help in array and matrix\n",
    " \n",
    "# use to avoid unnecessary informations\n",
    "import warnings\n",
    "warnings.filterwarnings('ignore')"
   ]
  },
  {
   "cell_type": "markdown",
   "id": "f3451d12",
   "metadata": {},
   "source": [
    "## loading loanset"
   ]
  },
  {
   "cell_type": "code",
   "execution_count": 2,
   "id": "2bb92a20",
   "metadata": {
    "scrolled": true
   },
   "outputs": [
    {
     "data": {
      "text/html": [
       "<div>\n",
       "<style scoped>\n",
       "    .dataframe tbody tr th:only-of-type {\n",
       "        vertical-align: middle;\n",
       "    }\n",
       "\n",
       "    .dataframe tbody tr th {\n",
       "        vertical-align: top;\n",
       "    }\n",
       "\n",
       "    .dataframe thead th {\n",
       "        text-align: right;\n",
       "    }\n",
       "</style>\n",
       "<table border=\"1\" class=\"dataframe\">\n",
       "  <thead>\n",
       "    <tr style=\"text-align: right;\">\n",
       "      <th></th>\n",
       "      <th>Loan_ID</th>\n",
       "      <th>Gender</th>\n",
       "      <th>Married</th>\n",
       "      <th>Dependents</th>\n",
       "      <th>Education</th>\n",
       "      <th>Self_Employed</th>\n",
       "      <th>ApplicantIncome</th>\n",
       "      <th>CoapplicantIncome</th>\n",
       "      <th>LoanAmount</th>\n",
       "      <th>Loan_Amount_Term</th>\n",
       "      <th>Credit_History</th>\n",
       "      <th>Property_Area</th>\n",
       "      <th>Loan_Status</th>\n",
       "    </tr>\n",
       "  </thead>\n",
       "  <tbody>\n",
       "    <tr>\n",
       "      <th>0</th>\n",
       "      <td>LP001002</td>\n",
       "      <td>Male</td>\n",
       "      <td>No</td>\n",
       "      <td>0</td>\n",
       "      <td>Graduate</td>\n",
       "      <td>No</td>\n",
       "      <td>5849</td>\n",
       "      <td>0.0</td>\n",
       "      <td>NaN</td>\n",
       "      <td>360.0</td>\n",
       "      <td>1.0</td>\n",
       "      <td>Urban</td>\n",
       "      <td>Y</td>\n",
       "    </tr>\n",
       "    <tr>\n",
       "      <th>1</th>\n",
       "      <td>LP001003</td>\n",
       "      <td>Male</td>\n",
       "      <td>Yes</td>\n",
       "      <td>1</td>\n",
       "      <td>Graduate</td>\n",
       "      <td>No</td>\n",
       "      <td>4583</td>\n",
       "      <td>1508.0</td>\n",
       "      <td>128.0</td>\n",
       "      <td>360.0</td>\n",
       "      <td>1.0</td>\n",
       "      <td>Rural</td>\n",
       "      <td>N</td>\n",
       "    </tr>\n",
       "    <tr>\n",
       "      <th>2</th>\n",
       "      <td>LP001005</td>\n",
       "      <td>Male</td>\n",
       "      <td>Yes</td>\n",
       "      <td>0</td>\n",
       "      <td>Graduate</td>\n",
       "      <td>Yes</td>\n",
       "      <td>3000</td>\n",
       "      <td>0.0</td>\n",
       "      <td>66.0</td>\n",
       "      <td>360.0</td>\n",
       "      <td>1.0</td>\n",
       "      <td>Urban</td>\n",
       "      <td>Y</td>\n",
       "    </tr>\n",
       "    <tr>\n",
       "      <th>3</th>\n",
       "      <td>LP001006</td>\n",
       "      <td>Male</td>\n",
       "      <td>Yes</td>\n",
       "      <td>0</td>\n",
       "      <td>Not Graduate</td>\n",
       "      <td>No</td>\n",
       "      <td>2583</td>\n",
       "      <td>2358.0</td>\n",
       "      <td>120.0</td>\n",
       "      <td>360.0</td>\n",
       "      <td>1.0</td>\n",
       "      <td>Urban</td>\n",
       "      <td>Y</td>\n",
       "    </tr>\n",
       "    <tr>\n",
       "      <th>4</th>\n",
       "      <td>LP001008</td>\n",
       "      <td>Male</td>\n",
       "      <td>No</td>\n",
       "      <td>0</td>\n",
       "      <td>Graduate</td>\n",
       "      <td>No</td>\n",
       "      <td>6000</td>\n",
       "      <td>0.0</td>\n",
       "      <td>141.0</td>\n",
       "      <td>360.0</td>\n",
       "      <td>1.0</td>\n",
       "      <td>Urban</td>\n",
       "      <td>Y</td>\n",
       "    </tr>\n",
       "    <tr>\n",
       "      <th>...</th>\n",
       "      <td>...</td>\n",
       "      <td>...</td>\n",
       "      <td>...</td>\n",
       "      <td>...</td>\n",
       "      <td>...</td>\n",
       "      <td>...</td>\n",
       "      <td>...</td>\n",
       "      <td>...</td>\n",
       "      <td>...</td>\n",
       "      <td>...</td>\n",
       "      <td>...</td>\n",
       "      <td>...</td>\n",
       "      <td>...</td>\n",
       "    </tr>\n",
       "    <tr>\n",
       "      <th>609</th>\n",
       "      <td>LP002978</td>\n",
       "      <td>Female</td>\n",
       "      <td>No</td>\n",
       "      <td>0</td>\n",
       "      <td>Graduate</td>\n",
       "      <td>No</td>\n",
       "      <td>2900</td>\n",
       "      <td>0.0</td>\n",
       "      <td>71.0</td>\n",
       "      <td>360.0</td>\n",
       "      <td>1.0</td>\n",
       "      <td>Rural</td>\n",
       "      <td>Y</td>\n",
       "    </tr>\n",
       "    <tr>\n",
       "      <th>610</th>\n",
       "      <td>LP002979</td>\n",
       "      <td>Male</td>\n",
       "      <td>Yes</td>\n",
       "      <td>3+</td>\n",
       "      <td>Graduate</td>\n",
       "      <td>No</td>\n",
       "      <td>4106</td>\n",
       "      <td>0.0</td>\n",
       "      <td>40.0</td>\n",
       "      <td>180.0</td>\n",
       "      <td>1.0</td>\n",
       "      <td>Rural</td>\n",
       "      <td>Y</td>\n",
       "    </tr>\n",
       "    <tr>\n",
       "      <th>611</th>\n",
       "      <td>LP002983</td>\n",
       "      <td>Male</td>\n",
       "      <td>Yes</td>\n",
       "      <td>1</td>\n",
       "      <td>Graduate</td>\n",
       "      <td>No</td>\n",
       "      <td>8072</td>\n",
       "      <td>240.0</td>\n",
       "      <td>253.0</td>\n",
       "      <td>360.0</td>\n",
       "      <td>1.0</td>\n",
       "      <td>Urban</td>\n",
       "      <td>Y</td>\n",
       "    </tr>\n",
       "    <tr>\n",
       "      <th>612</th>\n",
       "      <td>LP002984</td>\n",
       "      <td>Male</td>\n",
       "      <td>Yes</td>\n",
       "      <td>2</td>\n",
       "      <td>Graduate</td>\n",
       "      <td>No</td>\n",
       "      <td>7583</td>\n",
       "      <td>0.0</td>\n",
       "      <td>187.0</td>\n",
       "      <td>360.0</td>\n",
       "      <td>1.0</td>\n",
       "      <td>Urban</td>\n",
       "      <td>Y</td>\n",
       "    </tr>\n",
       "    <tr>\n",
       "      <th>613</th>\n",
       "      <td>LP002990</td>\n",
       "      <td>Female</td>\n",
       "      <td>No</td>\n",
       "      <td>0</td>\n",
       "      <td>Graduate</td>\n",
       "      <td>Yes</td>\n",
       "      <td>4583</td>\n",
       "      <td>0.0</td>\n",
       "      <td>133.0</td>\n",
       "      <td>360.0</td>\n",
       "      <td>0.0</td>\n",
       "      <td>Semiurban</td>\n",
       "      <td>N</td>\n",
       "    </tr>\n",
       "  </tbody>\n",
       "</table>\n",
       "<p>614 rows × 13 columns</p>\n",
       "</div>"
      ],
      "text/plain": [
       "      Loan_ID  Gender Married Dependents     Education Self_Employed  \\\n",
       "0    LP001002    Male      No          0      Graduate            No   \n",
       "1    LP001003    Male     Yes          1      Graduate            No   \n",
       "2    LP001005    Male     Yes          0      Graduate           Yes   \n",
       "3    LP001006    Male     Yes          0  Not Graduate            No   \n",
       "4    LP001008    Male      No          0      Graduate            No   \n",
       "..        ...     ...     ...        ...           ...           ...   \n",
       "609  LP002978  Female      No          0      Graduate            No   \n",
       "610  LP002979    Male     Yes         3+      Graduate            No   \n",
       "611  LP002983    Male     Yes          1      Graduate            No   \n",
       "612  LP002984    Male     Yes          2      Graduate            No   \n",
       "613  LP002990  Female      No          0      Graduate           Yes   \n",
       "\n",
       "     ApplicantIncome  CoapplicantIncome  LoanAmount  Loan_Amount_Term  \\\n",
       "0               5849                0.0         NaN             360.0   \n",
       "1               4583             1508.0       128.0             360.0   \n",
       "2               3000                0.0        66.0             360.0   \n",
       "3               2583             2358.0       120.0             360.0   \n",
       "4               6000                0.0       141.0             360.0   \n",
       "..               ...                ...         ...               ...   \n",
       "609             2900                0.0        71.0             360.0   \n",
       "610             4106                0.0        40.0             180.0   \n",
       "611             8072              240.0       253.0             360.0   \n",
       "612             7583                0.0       187.0             360.0   \n",
       "613             4583                0.0       133.0             360.0   \n",
       "\n",
       "     Credit_History Property_Area Loan_Status  \n",
       "0               1.0         Urban           Y  \n",
       "1               1.0         Rural           N  \n",
       "2               1.0         Urban           Y  \n",
       "3               1.0         Urban           Y  \n",
       "4               1.0         Urban           Y  \n",
       "..              ...           ...         ...  \n",
       "609             1.0         Rural           Y  \n",
       "610             1.0         Rural           Y  \n",
       "611             1.0         Urban           Y  \n",
       "612             1.0         Urban           Y  \n",
       "613             0.0     Semiurban           N  \n",
       "\n",
       "[614 rows x 13 columns]"
      ]
     },
     "execution_count": 2,
     "metadata": {},
     "output_type": "execute_result"
    }
   ],
   "source": [
    "loan=pd.read_csv(\"loan_pred.csv\")\n",
    "loan"
   ]
  },
  {
   "cell_type": "code",
   "execution_count": 3,
   "id": "3550341d",
   "metadata": {},
   "outputs": [
    {
     "data": {
      "text/plain": [
       "(614, 13)"
      ]
     },
     "execution_count": 3,
     "metadata": {},
     "output_type": "execute_result"
    }
   ],
   "source": [
    "loan.shape"
   ]
  },
  {
   "cell_type": "markdown",
   "id": "64c71cb1",
   "metadata": {},
   "source": [
    "## preprocessing"
   ]
  },
  {
   "cell_type": "markdown",
   "id": "804efb8e",
   "metadata": {},
   "source": [
    "### duplicates"
   ]
  },
  {
   "cell_type": "code",
   "execution_count": 4,
   "id": "a3ab3358",
   "metadata": {},
   "outputs": [
    {
     "name": "stdout",
     "output_type": "stream",
     "text": [
      "Total of duplicates: 0\n",
      "total rows: 614\n",
      "percentage of duplicates: 0.0\n"
     ]
    }
   ],
   "source": [
    "duplicated = loan.duplicated().sum()\n",
    "total_lines = loan.shape[0]\n",
    "percentage = (duplicated/total_lines) * 100\n",
    "print(\"Total of duplicates:\",duplicated)\n",
    "print(\"total rows:\",total_lines)\n",
    "print(\"percentage of duplicates:\",percentage)\n"
   ]
  },
  {
   "cell_type": "markdown",
   "id": "de0f0bb9",
   "metadata": {},
   "source": [
    "no duplicates in dataset"
   ]
  },
  {
   "cell_type": "code",
   "execution_count": 5,
   "id": "489de209",
   "metadata": {
    "scrolled": true
   },
   "outputs": [
    {
     "name": "stdout",
     "output_type": "stream",
     "text": [
      "<class 'pandas.core.frame.DataFrame'>\n",
      "RangeIndex: 614 entries, 0 to 613\n",
      "Data columns (total 13 columns):\n",
      " #   Column             Non-Null Count  Dtype  \n",
      "---  ------             --------------  -----  \n",
      " 0   Loan_ID            614 non-null    object \n",
      " 1   Gender             601 non-null    object \n",
      " 2   Married            611 non-null    object \n",
      " 3   Dependents         599 non-null    object \n",
      " 4   Education          614 non-null    object \n",
      " 5   Self_Employed      582 non-null    object \n",
      " 6   ApplicantIncome    614 non-null    int64  \n",
      " 7   CoapplicantIncome  614 non-null    float64\n",
      " 8   LoanAmount         592 non-null    float64\n",
      " 9   Loan_Amount_Term   600 non-null    float64\n",
      " 10  Credit_History     564 non-null    float64\n",
      " 11  Property_Area      614 non-null    object \n",
      " 12  Loan_Status        614 non-null    object \n",
      "dtypes: float64(4), int64(1), object(8)\n",
      "memory usage: 62.5+ KB\n"
     ]
    }
   ],
   "source": [
    "loan.info()"
   ]
  },
  {
   "cell_type": "code",
   "execution_count": 6,
   "id": "7726a131",
   "metadata": {},
   "outputs": [
    {
     "data": {
      "text/plain": [
       "Loan_ID               0\n",
       "Gender               13\n",
       "Married               3\n",
       "Dependents           15\n",
       "Education             0\n",
       "Self_Employed        32\n",
       "ApplicantIncome       0\n",
       "CoapplicantIncome     0\n",
       "LoanAmount           22\n",
       "Loan_Amount_Term     14\n",
       "Credit_History       50\n",
       "Property_Area         0\n",
       "Loan_Status           0\n",
       "dtype: int64"
      ]
     },
     "execution_count": 6,
     "metadata": {},
     "output_type": "execute_result"
    }
   ],
   "source": [
    "loan.isnull().sum()"
   ]
  },
  {
   "cell_type": "markdown",
   "id": "cec28286",
   "metadata": {},
   "source": [
    "there are null values in dataset"
   ]
  },
  {
   "cell_type": "code",
   "execution_count": 7,
   "id": "b8d152af",
   "metadata": {},
   "outputs": [
    {
     "data": {
      "text/html": [
       "<div>\n",
       "<style scoped>\n",
       "    .dataframe tbody tr th:only-of-type {\n",
       "        vertical-align: middle;\n",
       "    }\n",
       "\n",
       "    .dataframe tbody tr th {\n",
       "        vertical-align: top;\n",
       "    }\n",
       "\n",
       "    .dataframe thead th {\n",
       "        text-align: right;\n",
       "    }\n",
       "</style>\n",
       "<table border=\"1\" class=\"dataframe\">\n",
       "  <thead>\n",
       "    <tr style=\"text-align: right;\">\n",
       "      <th></th>\n",
       "      <th>ApplicantIncome</th>\n",
       "      <th>CoapplicantIncome</th>\n",
       "      <th>LoanAmount</th>\n",
       "      <th>Loan_Amount_Term</th>\n",
       "      <th>Credit_History</th>\n",
       "    </tr>\n",
       "  </thead>\n",
       "  <tbody>\n",
       "    <tr>\n",
       "      <th>count</th>\n",
       "      <td>614.000000</td>\n",
       "      <td>614.000000</td>\n",
       "      <td>592.000000</td>\n",
       "      <td>600.00000</td>\n",
       "      <td>564.000000</td>\n",
       "    </tr>\n",
       "    <tr>\n",
       "      <th>mean</th>\n",
       "      <td>5403.459283</td>\n",
       "      <td>1621.245798</td>\n",
       "      <td>146.412162</td>\n",
       "      <td>342.00000</td>\n",
       "      <td>0.842199</td>\n",
       "    </tr>\n",
       "    <tr>\n",
       "      <th>std</th>\n",
       "      <td>6109.041673</td>\n",
       "      <td>2926.248369</td>\n",
       "      <td>85.587325</td>\n",
       "      <td>65.12041</td>\n",
       "      <td>0.364878</td>\n",
       "    </tr>\n",
       "    <tr>\n",
       "      <th>min</th>\n",
       "      <td>150.000000</td>\n",
       "      <td>0.000000</td>\n",
       "      <td>9.000000</td>\n",
       "      <td>12.00000</td>\n",
       "      <td>0.000000</td>\n",
       "    </tr>\n",
       "    <tr>\n",
       "      <th>25%</th>\n",
       "      <td>2877.500000</td>\n",
       "      <td>0.000000</td>\n",
       "      <td>100.000000</td>\n",
       "      <td>360.00000</td>\n",
       "      <td>1.000000</td>\n",
       "    </tr>\n",
       "    <tr>\n",
       "      <th>50%</th>\n",
       "      <td>3812.500000</td>\n",
       "      <td>1188.500000</td>\n",
       "      <td>128.000000</td>\n",
       "      <td>360.00000</td>\n",
       "      <td>1.000000</td>\n",
       "    </tr>\n",
       "    <tr>\n",
       "      <th>75%</th>\n",
       "      <td>5795.000000</td>\n",
       "      <td>2297.250000</td>\n",
       "      <td>168.000000</td>\n",
       "      <td>360.00000</td>\n",
       "      <td>1.000000</td>\n",
       "    </tr>\n",
       "    <tr>\n",
       "      <th>max</th>\n",
       "      <td>81000.000000</td>\n",
       "      <td>41667.000000</td>\n",
       "      <td>700.000000</td>\n",
       "      <td>480.00000</td>\n",
       "      <td>1.000000</td>\n",
       "    </tr>\n",
       "  </tbody>\n",
       "</table>\n",
       "</div>"
      ],
      "text/plain": [
       "       ApplicantIncome  CoapplicantIncome  LoanAmount  Loan_Amount_Term  \\\n",
       "count       614.000000         614.000000  592.000000         600.00000   \n",
       "mean       5403.459283        1621.245798  146.412162         342.00000   \n",
       "std        6109.041673        2926.248369   85.587325          65.12041   \n",
       "min         150.000000           0.000000    9.000000          12.00000   \n",
       "25%        2877.500000           0.000000  100.000000         360.00000   \n",
       "50%        3812.500000        1188.500000  128.000000         360.00000   \n",
       "75%        5795.000000        2297.250000  168.000000         360.00000   \n",
       "max       81000.000000       41667.000000  700.000000         480.00000   \n",
       "\n",
       "       Credit_History  \n",
       "count      564.000000  \n",
       "mean         0.842199  \n",
       "std          0.364878  \n",
       "min          0.000000  \n",
       "25%          1.000000  \n",
       "50%          1.000000  \n",
       "75%          1.000000  \n",
       "max          1.000000  "
      ]
     },
     "execution_count": 7,
     "metadata": {},
     "output_type": "execute_result"
    }
   ],
   "source": [
    "loan.describe()"
   ]
  },
  {
   "cell_type": "code",
   "execution_count": 8,
   "id": "0ecd3e57",
   "metadata": {},
   "outputs": [],
   "source": [
    "loan['Total_Income']=loan['ApplicantIncome']+loan['CoapplicantIncome']"
   ]
  },
  {
   "cell_type": "markdown",
   "id": "e58c3f75",
   "metadata": {},
   "source": [
    "adding new column total income having combination of applicantincome and coapplicantincome to show the total income of the applicant"
   ]
  },
  {
   "cell_type": "markdown",
   "id": "72cfd9ff",
   "metadata": {},
   "source": [
    "##### dropping column"
   ]
  },
  {
   "cell_type": "code",
   "execution_count": 9,
   "id": "02572a6a",
   "metadata": {
    "scrolled": true
   },
   "outputs": [],
   "source": [
    "loan=loan.drop('Loan_ID',axis=1)"
   ]
  },
  {
   "cell_type": "markdown",
   "id": "4b928642",
   "metadata": {},
   "source": [
    "dropping unnecessary column"
   ]
  },
  {
   "cell_type": "code",
   "execution_count": 10,
   "id": "7def5abc",
   "metadata": {
    "scrolled": true
   },
   "outputs": [
    {
     "data": {
      "text/plain": [
       "Y    422\n",
       "N    192\n",
       "Name: Loan_Status, dtype: int64"
      ]
     },
     "execution_count": 10,
     "metadata": {},
     "output_type": "execute_result"
    }
   ],
   "source": [
    "loan['Loan_Status'].value_counts()"
   ]
  },
  {
   "cell_type": "markdown",
   "id": "93f6ef86",
   "metadata": {},
   "source": [
    "there is no imbalance class in target column"
   ]
  },
  {
   "cell_type": "code",
   "execution_count": 11,
   "id": "b8140ce7",
   "metadata": {},
   "outputs": [
    {
     "data": {
      "text/plain": [
       "1.0    475\n",
       "0.0     89\n",
       "Name: Credit_History, dtype: int64"
      ]
     },
     "execution_count": 11,
     "metadata": {},
     "output_type": "execute_result"
    }
   ],
   "source": [
    "loan['Credit_History'].value_counts()"
   ]
  },
  {
   "cell_type": "code",
   "execution_count": 12,
   "id": "439f4ec5",
   "metadata": {},
   "outputs": [
    {
     "name": "stdout",
     "output_type": "stream",
     "text": [
      "Categorical Columns:\n",
      "\t\t ['Gender', 'Married', 'Dependents', 'Education', 'Self_Employed', 'Property_Area', 'Loan_Status']\n",
      "\n",
      "\n",
      "Numeric Columns:\n",
      "\t\t ['ApplicantIncome', 'CoapplicantIncome', 'LoanAmount', 'Loan_Amount_Term', 'Credit_History', 'Total_Income']\n"
     ]
    }
   ],
   "source": [
    "# check for categorical attributes\n",
    "cat_col=[]\n",
    "num_col=[]\n",
    "for i in loan.dtypes.index:\n",
    "    if loan.dtypes[i]=='object':\n",
    "        cat_col.append(i)\n",
    "    else:\n",
    "        num_col.append(i)\n",
    "print('Categorical Columns:\\n\\t\\t',cat_col)\n",
    "print('\\n\\nNumeric Columns:\\n\\t\\t',num_col)"
   ]
  },
  {
   "cell_type": "markdown",
   "id": "89733ebb",
   "metadata": {},
   "source": [
    "# EDA"
   ]
  },
  {
   "cell_type": "code",
   "execution_count": 13,
   "id": "80d9f8dc",
   "metadata": {},
   "outputs": [],
   "source": [
    "from matplotlib import pyplot as plt\n",
    "import seaborn as sns"
   ]
  },
  {
   "cell_type": "code",
   "execution_count": 14,
   "id": "7722bc35",
   "metadata": {},
   "outputs": [
    {
     "data": {
      "text/plain": [
       "<Figure size 216x216 with 0 Axes>"
      ]
     },
     "metadata": {},
     "output_type": "display_data"
    },
    {
     "data": {
      "image/png": "[encoded data removed]",
      "text/plain": [
       "<Figure size 360x360 with 1 Axes>"
      ]
     },
     "metadata": {
      "needs_background": "light"
     },
     "output_type": "display_data"
    }
   ],
   "source": [
    "fig = plt.figure(figsize =(3,3))\n",
    "sns.catplot(x=\"Loan_Status\", kind=\"count\", palette=\"ch:.25\", data=loan)\n",
    "plt.show()"
   ]
  },
  {
   "cell_type": "code",
   "execution_count": 15,
   "id": "bfda6eb3",
   "metadata": {},
   "outputs": [
    {
     "data": {
      "text/plain": [
       "<Figure size 288x288 with 0 Axes>"
      ]
     },
     "metadata": {},
     "output_type": "display_data"
    },
    {
     "data": {
      "image/png": "[encoded data removed]",
      "text/plain": [
       "<Figure size 428.625x360 with 1 Axes>"
      ]
     },
     "metadata": {
      "needs_background": "light"
     },
     "output_type": "display_data"
    }
   ],
   "source": [
    "fig = plt.figure(figsize =(4, 4))\n",
    "sns.catplot(x=\"Dependents\",hue='Loan_Status' ,kind=\"count\", palette=\"ch:.25\", data=loan)\n",
    "plt.show()"
   ]
  },
  {
   "cell_type": "markdown",
   "id": "c3e37761",
   "metadata": {},
   "source": [
    "dependent 0 has maximum chances of yes and no"
   ]
  },
  {
   "cell_type": "code",
   "execution_count": 16,
   "id": "58a12fe9",
   "metadata": {},
   "outputs": [
    {
     "data": {
      "text/plain": [
       "<Figure size 288x288 with 0 Axes>"
      ]
     },
     "metadata": {},
     "output_type": "display_data"
    },
    {
     "data": {
      "image/png": "[encoded data removed]",
      "text/plain": [
       "<Figure size 428.625x360 with 1 Axes>"
      ]
     },
     "metadata": {
      "needs_background": "light"
     },
     "output_type": "display_data"
    }
   ],
   "source": [
    "fig = plt.figure(figsize =(4, 4))\n",
    "sns.catplot(x=\"Gender\",hue='Loan_Status' ,kind=\"count\", palette=\"ch:.25\", data=loan)\n",
    "plt.show()"
   ]
  },
  {
   "cell_type": "markdown",
   "id": "3eddec84",
   "metadata": {},
   "source": [
    "males have maximun chances of loan status rather than females"
   ]
  },
  {
   "cell_type": "code",
   "execution_count": 17,
   "id": "fc92ec82",
   "metadata": {},
   "outputs": [
    {
     "data": {
      "text/plain": [
       "<Figure size 288x288 with 0 Axes>"
      ]
     },
     "metadata": {},
     "output_type": "display_data"
    },
    {
     "data": {
      "image/png": "[encoded data removed]",
      "text/plain": [
       "<Figure size 428.625x360 with 1 Axes>"
      ]
     },
     "metadata": {
      "needs_background": "light"
     },
     "output_type": "display_data"
    }
   ],
   "source": [
    "fig = plt.figure(figsize =(4, 4))\n",
    "sns.catplot(x=\"Married\",hue='Loan_Status' ,kind=\"count\", palette=\"ch:.25\", data=loan)\n",
    "plt.show()"
   ]
  },
  {
   "cell_type": "markdown",
   "id": "71181556",
   "metadata": {},
   "source": [
    "chances of getting loan in married are higher than unmarried"
   ]
  },
  {
   "cell_type": "code",
   "execution_count": 18,
   "id": "70a4e299",
   "metadata": {},
   "outputs": [
    {
     "data": {
      "text/plain": [
       "<Figure size 288x288 with 0 Axes>"
      ]
     },
     "metadata": {},
     "output_type": "display_data"
    },
    {
     "data": {
      "image/png": "[encoded data removed]",
      "text/plain": [
       "<Figure size 428.625x360 with 1 Axes>"
      ]
     },
     "metadata": {
      "needs_background": "light"
     },
     "output_type": "display_data"
    }
   ],
   "source": [
    "fig = plt.figure(figsize =(4, 4))\n",
    "sns.catplot(x=\"Education\",hue='Loan_Status' ,kind=\"count\", palette=\"ch:.25\", data=loan)\n",
    "plt.show()"
   ]
  },
  {
   "cell_type": "markdown",
   "id": "a0bb481d",
   "metadata": {},
   "source": [
    "chances of getting loan for graduate are higher not graduate"
   ]
  },
  {
   "cell_type": "code",
   "execution_count": 19,
   "id": "2d8fd1fa",
   "metadata": {},
   "outputs": [
    {
     "data": {
      "text/plain": [
       "<Figure size 288x288 with 0 Axes>"
      ]
     },
     "metadata": {},
     "output_type": "display_data"
    },
    {
     "data": {
      "image/png": "[encoded data removed]",
      "text/plain": [
       "<Figure size 428.625x360 with 1 Axes>"
      ]
     },
     "metadata": {
      "needs_background": "light"
     },
     "output_type": "display_data"
    }
   ],
   "source": [
    "fig = plt.figure(figsize =(4, 4))\n",
    "sns.catplot(x=\"Self_Employed\",hue='Loan_Status' ,kind=\"count\", palette=\"ch:.25\", data=loan)\n",
    "plt.show()"
   ]
  },
  {
   "cell_type": "markdown",
   "id": "db94a3dd",
   "metadata": {},
   "source": [
    "chances of not getting loan who are self employed"
   ]
  },
  {
   "cell_type": "code",
   "execution_count": 20,
   "id": "ab7a66bf",
   "metadata": {},
   "outputs": [
    {
     "data": {
      "text/plain": [
       "<Figure size 288x288 with 0 Axes>"
      ]
     },
     "metadata": {},
     "output_type": "display_data"
    },
    {
     "data": {
      "image/png": "[encoded data removed]",
      "text/plain": [
       "<Figure size 428.625x360 with 1 Axes>"
      ]
     },
     "metadata": {
      "needs_background": "light"
     },
     "output_type": "display_data"
    }
   ],
   "source": [
    "fig = plt.figure(figsize =(4, 4))\n",
    "sns.catplot(x=\"Property_Area\",hue='Loan_Status' ,kind=\"count\", palette=\"ch:.25\", data=loan)\n",
    "plt.show()"
   ]
  },
  {
   "cell_type": "code",
   "execution_count": 21,
   "id": "d4289608",
   "metadata": {},
   "outputs": [
    {
     "data": {
      "text/plain": [
       "<AxesSubplot:xlabel='Loan_Status', ylabel='Total_Income'>"
      ]
     },
     "execution_count": 21,
     "metadata": {},
     "output_type": "execute_result"
    },
    {
     "data": {
      "image/png": "[encoded data removed]",
      "text/plain": [
       "<Figure size 432x288 with 1 Axes>"
      ]
     },
     "metadata": {
      "needs_background": "light"
     },
     "output_type": "display_data"
    }
   ],
   "source": [
    "sns.stripplot(y='Total_Income',x='Loan_Status',data=loan)"
   ]
  },
  {
   "cell_type": "code",
   "execution_count": 22,
   "id": "56ed2092",
   "metadata": {
    "scrolled": true
   },
   "outputs": [
    {
     "data": {
      "text/plain": [
       "<AxesSubplot:xlabel='Loan_Status', ylabel='ApplicantIncome'>"
      ]
     },
     "execution_count": 22,
     "metadata": {},
     "output_type": "execute_result"
    },
    {
     "data": {
      "image/png": "[encoded data removed]",
      "text/plain": [
       "<Figure size 432x288 with 1 Axes>"
      ]
     },
     "metadata": {
      "needs_background": "light"
     },
     "output_type": "display_data"
    }
   ],
   "source": [
    "sns.stripplot(y='ApplicantIncome',x='Loan_Status',data=loan)"
   ]
  },
  {
   "cell_type": "code",
   "execution_count": 23,
   "id": "d4f63378",
   "metadata": {},
   "outputs": [
    {
     "data": {
      "text/plain": [
       "<seaborn.axisgrid.FacetGrid at 0x2ac2143f790>"
      ]
     },
     "execution_count": 23,
     "metadata": {},
     "output_type": "execute_result"
    },
    {
     "data": {
      "image/png": "[encoded data removed]",
      "text/plain": [
       "<Figure size 360x360 with 1 Axes>"
      ]
     },
     "metadata": {
      "needs_background": "light"
     },
     "output_type": "display_data"
    }
   ],
   "source": [
    "sns.catplot(y='CoapplicantIncome',x='Loan_Status',data=loan)"
   ]
  },
  {
   "cell_type": "code",
   "execution_count": 24,
   "id": "71d2a834",
   "metadata": {},
   "outputs": [
    {
     "data": {
      "text/plain": [
       "<AxesSubplot:xlabel='Loan_Status', ylabel='LoanAmount'>"
      ]
     },
     "execution_count": 24,
     "metadata": {},
     "output_type": "execute_result"
    },
    {
     "data": {
      "image/png": "[encoded data removed]",
      "text/plain": [
       "<Figure size 432x288 with 1 Axes>"
      ]
     },
     "metadata": {
      "needs_background": "light"
     },
     "output_type": "display_data"
    }
   ],
   "source": [
    "sns.stripplot(y='LoanAmount',x='Loan_Status',data=loan)"
   ]
  },
  {
   "cell_type": "code",
   "execution_count": 25,
   "id": "82fb93af",
   "metadata": {},
   "outputs": [
    {
     "data": {
      "text/plain": [
       "<AxesSubplot:xlabel='Loan_Status', ylabel='Loan_Amount_Term'>"
      ]
     },
     "execution_count": 25,
     "metadata": {},
     "output_type": "execute_result"
    },
    {
     "data": {
      "image/png": "[encoded data removed]",
      "text/plain": [
       "<Figure size 432x288 with 1 Axes>"
      ]
     },
     "metadata": {
      "needs_background": "light"
     },
     "output_type": "display_data"
    }
   ],
   "source": [
    "sns.violinplot(y='Loan_Amount_Term',x='Loan_Status',data=loan)"
   ]
  },
  {
   "cell_type": "markdown",
   "id": "54fcddba",
   "metadata": {},
   "source": [
    "loan amount term is not showing any relation with loan status yes or no"
   ]
  },
  {
   "cell_type": "code",
   "execution_count": 26,
   "id": "c66fd6b6",
   "metadata": {},
   "outputs": [
    {
     "data": {
      "text/plain": [
       "<AxesSubplot:xlabel='Loan_Status', ylabel='Credit_History'>"
      ]
     },
     "execution_count": 26,
     "metadata": {},
     "output_type": "execute_result"
    },
    {
     "data": {
      "image/png": "[encoded data removed]",
      "text/plain": [
       "<Figure size 432x288 with 1 Axes>"
      ]
     },
     "metadata": {
      "needs_background": "light"
     },
     "output_type": "display_data"
    }
   ],
   "source": [
    "sns.violinplot(y='Credit_History',x='Loan_Status',data=loan)"
   ]
  },
  {
   "cell_type": "markdown",
   "id": "bb3011b1",
   "metadata": {},
   "source": [
    "credit history must be high for loan approval"
   ]
  },
  {
   "cell_type": "markdown",
   "id": "df33ec3e",
   "metadata": {},
   "source": [
    "### heatmap correlation"
   ]
  },
  {
   "cell_type": "code",
   "execution_count": 51,
   "id": "79739095",
   "metadata": {},
   "outputs": [
    {
     "data": {
      "image/png": "[encoded data removed]",
      "text/plain": [
       "<Figure size 1080x1080 with 2 Axes>"
      ]
     },
     "metadata": {
      "needs_background": "light"
     },
     "output_type": "display_data"
    }
   ],
   "source": [
    "plt.figure(figsize=(15,15))\n",
    "sns.heatmap(loan.corr().abs(),square=True,fmt='.2f',cbar=True,cbar_kws={'shrink':.82},annot=True,annot_kws={'size':10},cmap='cubehelix')\n",
    "plt.show()"
   ]
  },
  {
   "cell_type": "markdown",
   "id": "9757be78",
   "metadata": {},
   "source": [
    "showing that there is no relation between loan_status and self_employed."
   ]
  },
  {
   "cell_type": "markdown",
   "id": "f99777fe",
   "metadata": {},
   "source": [
    "#### filling nan values"
   ]
  },
  {
   "cell_type": "code",
   "execution_count": 27,
   "id": "2970ef96",
   "metadata": {},
   "outputs": [],
   "source": [
    "# handling nan for numerical columns\n",
    "loan['LoanAmount']=loan['LoanAmount'].fillna(loan['LoanAmount'].median())\n",
    "loan['Loan_Amount_Term']=loan['Loan_Amount_Term'].fillna(loan['Loan_Amount_Term'].mean())\n",
    "loan['Credit_History']=loan['Credit_History'].fillna(loan['Credit_History'].median())\n",
    "\n",
    "# handling nan values for categorical columns\n",
    "loan['Gender']=loan['Gender'].fillna(loan['Gender'].mode()[0])\n",
    "loan['Married'] = loan['Married'].fillna(loan['Married'].mode()[0])\n",
    "loan['Dependents'] =loan['Dependents'].fillna(loan['Dependents'].mode()[0])\n",
    "loan['Self_Employed'] =loan['Self_Employed'].fillna(loan['Self_Employed'].mode()[0])"
   ]
  },
  {
   "cell_type": "code",
   "execution_count": 28,
   "id": "8eff26cd",
   "metadata": {},
   "outputs": [
    {
     "data": {
      "text/plain": [
       "Gender               0\n",
       "Married              0\n",
       "Dependents           0\n",
       "Education            0\n",
       "Self_Employed        0\n",
       "ApplicantIncome      0\n",
       "CoapplicantIncome    0\n",
       "LoanAmount           0\n",
       "Loan_Amount_Term     0\n",
       "Credit_History       0\n",
       "Property_Area        0\n",
       "Loan_Status          0\n",
       "Total_Income         0\n",
       "dtype: int64"
      ]
     },
     "execution_count": 28,
     "metadata": {},
     "output_type": "execute_result"
    }
   ],
   "source": [
    "loan.isnull().sum()"
   ]
  },
  {
   "cell_type": "markdown",
   "id": "47804134",
   "metadata": {},
   "source": [
    "all nan values are removed"
   ]
  },
  {
   "cell_type": "markdown",
   "id": "2fd8579c",
   "metadata": {},
   "source": [
    "### drop columns"
   ]
  },
  {
   "cell_type": "code",
   "execution_count": 29,
   "id": "c2a89300",
   "metadata": {},
   "outputs": [
    {
     "data": {
      "text/html": [
       "<div>\n",
       "<style scoped>\n",
       "    .dataframe tbody tr th:only-of-type {\n",
       "        vertical-align: middle;\n",
       "    }\n",
       "\n",
       "    .dataframe tbody tr th {\n",
       "        vertical-align: top;\n",
       "    }\n",
       "\n",
       "    .dataframe thead th {\n",
       "        text-align: right;\n",
       "    }\n",
       "</style>\n",
       "<table border=\"1\" class=\"dataframe\">\n",
       "  <thead>\n",
       "    <tr style=\"text-align: right;\">\n",
       "      <th></th>\n",
       "      <th>Gender</th>\n",
       "      <th>Married</th>\n",
       "      <th>Education</th>\n",
       "      <th>Self_Employed</th>\n",
       "      <th>Credit_History</th>\n",
       "      <th>Property_Area</th>\n",
       "      <th>Loan_Status</th>\n",
       "      <th>Total_Income</th>\n",
       "    </tr>\n",
       "  </thead>\n",
       "  <tbody>\n",
       "    <tr>\n",
       "      <th>0</th>\n",
       "      <td>Male</td>\n",
       "      <td>No</td>\n",
       "      <td>Graduate</td>\n",
       "      <td>No</td>\n",
       "      <td>1.0</td>\n",
       "      <td>Urban</td>\n",
       "      <td>Y</td>\n",
       "      <td>5849.0</td>\n",
       "    </tr>\n",
       "    <tr>\n",
       "      <th>1</th>\n",
       "      <td>Male</td>\n",
       "      <td>Yes</td>\n",
       "      <td>Graduate</td>\n",
       "      <td>No</td>\n",
       "      <td>1.0</td>\n",
       "      <td>Rural</td>\n",
       "      <td>N</td>\n",
       "      <td>6091.0</td>\n",
       "    </tr>\n",
       "    <tr>\n",
       "      <th>2</th>\n",
       "      <td>Male</td>\n",
       "      <td>Yes</td>\n",
       "      <td>Graduate</td>\n",
       "      <td>Yes</td>\n",
       "      <td>1.0</td>\n",
       "      <td>Urban</td>\n",
       "      <td>Y</td>\n",
       "      <td>3000.0</td>\n",
       "    </tr>\n",
       "    <tr>\n",
       "      <th>3</th>\n",
       "      <td>Male</td>\n",
       "      <td>Yes</td>\n",
       "      <td>Not Graduate</td>\n",
       "      <td>No</td>\n",
       "      <td>1.0</td>\n",
       "      <td>Urban</td>\n",
       "      <td>Y</td>\n",
       "      <td>4941.0</td>\n",
       "    </tr>\n",
       "    <tr>\n",
       "      <th>4</th>\n",
       "      <td>Male</td>\n",
       "      <td>No</td>\n",
       "      <td>Graduate</td>\n",
       "      <td>No</td>\n",
       "      <td>1.0</td>\n",
       "      <td>Urban</td>\n",
       "      <td>Y</td>\n",
       "      <td>6000.0</td>\n",
       "    </tr>\n",
       "    <tr>\n",
       "      <th>...</th>\n",
       "      <td>...</td>\n",
       "      <td>...</td>\n",
       "      <td>...</td>\n",
       "      <td>...</td>\n",
       "      <td>...</td>\n",
       "      <td>...</td>\n",
       "      <td>...</td>\n",
       "      <td>...</td>\n",
       "    </tr>\n",
       "    <tr>\n",
       "      <th>609</th>\n",
       "      <td>Female</td>\n",
       "      <td>No</td>\n",
       "      <td>Graduate</td>\n",
       "      <td>No</td>\n",
       "      <td>1.0</td>\n",
       "      <td>Rural</td>\n",
       "      <td>Y</td>\n",
       "      <td>2900.0</td>\n",
       "    </tr>\n",
       "    <tr>\n",
       "      <th>610</th>\n",
       "      <td>Male</td>\n",
       "      <td>Yes</td>\n",
       "      <td>Graduate</td>\n",
       "      <td>No</td>\n",
       "      <td>1.0</td>\n",
       "      <td>Rural</td>\n",
       "      <td>Y</td>\n",
       "      <td>4106.0</td>\n",
       "    </tr>\n",
       "    <tr>\n",
       "      <th>611</th>\n",
       "      <td>Male</td>\n",
       "      <td>Yes</td>\n",
       "      <td>Graduate</td>\n",
       "      <td>No</td>\n",
       "      <td>1.0</td>\n",
       "      <td>Urban</td>\n",
       "      <td>Y</td>\n",
       "      <td>8312.0</td>\n",
       "    </tr>\n",
       "    <tr>\n",
       "      <th>612</th>\n",
       "      <td>Male</td>\n",
       "      <td>Yes</td>\n",
       "      <td>Graduate</td>\n",
       "      <td>No</td>\n",
       "      <td>1.0</td>\n",
       "      <td>Urban</td>\n",
       "      <td>Y</td>\n",
       "      <td>7583.0</td>\n",
       "    </tr>\n",
       "    <tr>\n",
       "      <th>613</th>\n",
       "      <td>Female</td>\n",
       "      <td>No</td>\n",
       "      <td>Graduate</td>\n",
       "      <td>Yes</td>\n",
       "      <td>0.0</td>\n",
       "      <td>Semiurban</td>\n",
       "      <td>N</td>\n",
       "      <td>4583.0</td>\n",
       "    </tr>\n",
       "  </tbody>\n",
       "</table>\n",
       "<p>614 rows × 8 columns</p>\n",
       "</div>"
      ],
      "text/plain": [
       "     Gender Married     Education Self_Employed  Credit_History Property_Area  \\\n",
       "0      Male      No      Graduate            No             1.0         Urban   \n",
       "1      Male     Yes      Graduate            No             1.0         Rural   \n",
       "2      Male     Yes      Graduate           Yes             1.0         Urban   \n",
       "3      Male     Yes  Not Graduate            No             1.0         Urban   \n",
       "4      Male      No      Graduate            No             1.0         Urban   \n",
       "..      ...     ...           ...           ...             ...           ...   \n",
       "609  Female      No      Graduate            No             1.0         Rural   \n",
       "610    Male     Yes      Graduate            No             1.0         Rural   \n",
       "611    Male     Yes      Graduate            No             1.0         Urban   \n",
       "612    Male     Yes      Graduate            No             1.0         Urban   \n",
       "613  Female      No      Graduate           Yes             0.0     Semiurban   \n",
       "\n",
       "    Loan_Status  Total_Income  \n",
       "0             Y        5849.0  \n",
       "1             N        6091.0  \n",
       "2             Y        3000.0  \n",
       "3             Y        4941.0  \n",
       "4             Y        6000.0  \n",
       "..          ...           ...  \n",
       "609           Y        2900.0  \n",
       "610           Y        4106.0  \n",
       "611           Y        8312.0  \n",
       "612           Y        7583.0  \n",
       "613           N        4583.0  \n",
       "\n",
       "[614 rows x 8 columns]"
      ]
     },
     "execution_count": 29,
     "metadata": {},
     "output_type": "execute_result"
    }
   ],
   "source": [
    "cols=['ApplicantIncome', \"LoanAmount\", \"Loan_Amount_Term\", 'CoapplicantIncome', 'Dependents']\n",
    "loan=loan.drop(columns=cols, axis=1)\n",
    "loan"
   ]
  },
  {
   "cell_type": "markdown",
   "id": "b5fd2509",
   "metadata": {},
   "source": [
    "dropping unnecessary columns"
   ]
  },
  {
   "cell_type": "markdown",
   "id": "36fd9904",
   "metadata": {},
   "source": [
    "### label encoding"
   ]
  },
  {
   "cell_type": "code",
   "execution_count": 30,
   "id": "0e967669",
   "metadata": {},
   "outputs": [
    {
     "data": {
      "text/html": [
       "<div>\n",
       "<style scoped>\n",
       "    .dataframe tbody tr th:only-of-type {\n",
       "        vertical-align: middle;\n",
       "    }\n",
       "\n",
       "    .dataframe tbody tr th {\n",
       "        vertical-align: top;\n",
       "    }\n",
       "\n",
       "    .dataframe thead th {\n",
       "        text-align: right;\n",
       "    }\n",
       "</style>\n",
       "<table border=\"1\" class=\"dataframe\">\n",
       "  <thead>\n",
       "    <tr style=\"text-align: right;\">\n",
       "      <th></th>\n",
       "      <th>Gender</th>\n",
       "      <th>Married</th>\n",
       "      <th>Education</th>\n",
       "      <th>Self_Employed</th>\n",
       "      <th>Credit_History</th>\n",
       "      <th>Property_Area</th>\n",
       "      <th>Loan_Status</th>\n",
       "      <th>Total_Income</th>\n",
       "    </tr>\n",
       "  </thead>\n",
       "  <tbody>\n",
       "    <tr>\n",
       "      <th>0</th>\n",
       "      <td>1</td>\n",
       "      <td>0</td>\n",
       "      <td>0</td>\n",
       "      <td>0</td>\n",
       "      <td>1.0</td>\n",
       "      <td>2</td>\n",
       "      <td>1</td>\n",
       "      <td>5849.0</td>\n",
       "    </tr>\n",
       "    <tr>\n",
       "      <th>1</th>\n",
       "      <td>1</td>\n",
       "      <td>1</td>\n",
       "      <td>0</td>\n",
       "      <td>0</td>\n",
       "      <td>1.0</td>\n",
       "      <td>0</td>\n",
       "      <td>0</td>\n",
       "      <td>6091.0</td>\n",
       "    </tr>\n",
       "    <tr>\n",
       "      <th>2</th>\n",
       "      <td>1</td>\n",
       "      <td>1</td>\n",
       "      <td>0</td>\n",
       "      <td>1</td>\n",
       "      <td>1.0</td>\n",
       "      <td>2</td>\n",
       "      <td>1</td>\n",
       "      <td>3000.0</td>\n",
       "    </tr>\n",
       "    <tr>\n",
       "      <th>3</th>\n",
       "      <td>1</td>\n",
       "      <td>1</td>\n",
       "      <td>1</td>\n",
       "      <td>0</td>\n",
       "      <td>1.0</td>\n",
       "      <td>2</td>\n",
       "      <td>1</td>\n",
       "      <td>4941.0</td>\n",
       "    </tr>\n",
       "    <tr>\n",
       "      <th>4</th>\n",
       "      <td>1</td>\n",
       "      <td>0</td>\n",
       "      <td>0</td>\n",
       "      <td>0</td>\n",
       "      <td>1.0</td>\n",
       "      <td>2</td>\n",
       "      <td>1</td>\n",
       "      <td>6000.0</td>\n",
       "    </tr>\n",
       "    <tr>\n",
       "      <th>...</th>\n",
       "      <td>...</td>\n",
       "      <td>...</td>\n",
       "      <td>...</td>\n",
       "      <td>...</td>\n",
       "      <td>...</td>\n",
       "      <td>...</td>\n",
       "      <td>...</td>\n",
       "      <td>...</td>\n",
       "    </tr>\n",
       "    <tr>\n",
       "      <th>609</th>\n",
       "      <td>0</td>\n",
       "      <td>0</td>\n",
       "      <td>0</td>\n",
       "      <td>0</td>\n",
       "      <td>1.0</td>\n",
       "      <td>0</td>\n",
       "      <td>1</td>\n",
       "      <td>2900.0</td>\n",
       "    </tr>\n",
       "    <tr>\n",
       "      <th>610</th>\n",
       "      <td>1</td>\n",
       "      <td>1</td>\n",
       "      <td>0</td>\n",
       "      <td>0</td>\n",
       "      <td>1.0</td>\n",
       "      <td>0</td>\n",
       "      <td>1</td>\n",
       "      <td>4106.0</td>\n",
       "    </tr>\n",
       "    <tr>\n",
       "      <th>611</th>\n",
       "      <td>1</td>\n",
       "      <td>1</td>\n",
       "      <td>0</td>\n",
       "      <td>0</td>\n",
       "      <td>1.0</td>\n",
       "      <td>2</td>\n",
       "      <td>1</td>\n",
       "      <td>8312.0</td>\n",
       "    </tr>\n",
       "    <tr>\n",
       "      <th>612</th>\n",
       "      <td>1</td>\n",
       "      <td>1</td>\n",
       "      <td>0</td>\n",
       "      <td>0</td>\n",
       "      <td>1.0</td>\n",
       "      <td>2</td>\n",
       "      <td>1</td>\n",
       "      <td>7583.0</td>\n",
       "    </tr>\n",
       "    <tr>\n",
       "      <th>613</th>\n",
       "      <td>0</td>\n",
       "      <td>0</td>\n",
       "      <td>0</td>\n",
       "      <td>1</td>\n",
       "      <td>0.0</td>\n",
       "      <td>1</td>\n",
       "      <td>0</td>\n",
       "      <td>4583.0</td>\n",
       "    </tr>\n",
       "  </tbody>\n",
       "</table>\n",
       "<p>614 rows × 8 columns</p>\n",
       "</div>"
      ],
      "text/plain": [
       "     Gender  Married  Education  Self_Employed  Credit_History  Property_Area  \\\n",
       "0         1        0          0              0             1.0              2   \n",
       "1         1        1          0              0             1.0              0   \n",
       "2         1        1          0              1             1.0              2   \n",
       "3         1        1          1              0             1.0              2   \n",
       "4         1        0          0              0             1.0              2   \n",
       "..      ...      ...        ...            ...             ...            ...   \n",
       "609       0        0          0              0             1.0              0   \n",
       "610       1        1          0              0             1.0              0   \n",
       "611       1        1          0              0             1.0              2   \n",
       "612       1        1          0              0             1.0              2   \n",
       "613       0        0          0              1             0.0              1   \n",
       "\n",
       "     Loan_Status  Total_Income  \n",
       "0              1        5849.0  \n",
       "1              0        6091.0  \n",
       "2              1        3000.0  \n",
       "3              1        4941.0  \n",
       "4              1        6000.0  \n",
       "..           ...           ...  \n",
       "609            1        2900.0  \n",
       "610            1        4106.0  \n",
       "611            1        8312.0  \n",
       "612            1        7583.0  \n",
       "613            0        4583.0  \n",
       "\n",
       "[614 rows x 8 columns]"
      ]
     },
     "execution_count": 30,
     "metadata": {},
     "output_type": "execute_result"
    }
   ],
   "source": [
    "from sklearn.preprocessing import LabelEncoder\n",
    "cols=['Gender',\"Married\",\"Education\",'Self_Employed',\"Property_Area\",\"Loan_Status\"]\n",
    "le=LabelEncoder()\n",
    "for i in cols:\n",
    "    loan[i]=le.fit_transform(loan[i])\n",
    "loan"
   ]
  },
  {
   "cell_type": "markdown",
   "id": "b7681481",
   "metadata": {},
   "source": [
    "### visualization of skewness"
   ]
  },
  {
   "cell_type": "code",
   "execution_count": 31,
   "id": "18cb1a7a",
   "metadata": {},
   "outputs": [
    {
     "data": {
      "text/plain": [
       "Gender           -1.648795\n",
       "Married          -0.644850\n",
       "Education         1.367622\n",
       "Self_Employed     2.159796\n",
       "Credit_History   -2.021971\n",
       "Property_Area    -0.066196\n",
       "Loan_Status      -0.809998\n",
       "Total_Income      5.633449\n",
       "dtype: float64"
      ]
     },
     "execution_count": 31,
     "metadata": {},
     "output_type": "execute_result"
    }
   ],
   "source": [
    "loan.skew()"
   ]
  },
  {
   "cell_type": "code",
   "execution_count": 32,
   "id": "b9ad2612",
   "metadata": {},
   "outputs": [
    {
     "data": {
      "image/png": "[encoded data removed]",
      "text/plain": [
       "<Figure size 1800x1440 with 8 Axes>"
      ]
     },
     "metadata": {
      "needs_background": "light"
     },
     "output_type": "display_data"
    }
   ],
   "source": [
    "fig = plt.figure(figsize=(25,20))\n",
    "c=1\n",
    "for i in loan:\n",
    "    plt.subplot(3,5,c)\n",
    "    plt.title('{}, subplot: {}{}{}'.format(i,3,5, c))\n",
    "    plt.xlabel(i)\n",
    "    sns.distplot(loan[i],color='green',hist_kws={\"edgecolor\": 'black'})\n",
    "    c = c + 1\n",
    "plt.show()\n"
   ]
  },
  {
   "cell_type": "markdown",
   "id": "03e328e3",
   "metadata": {},
   "source": [
    "### splitting data"
   ]
  },
  {
   "cell_type": "code",
   "execution_count": 33,
   "id": "3acc6e1a",
   "metadata": {},
   "outputs": [],
   "source": [
    "x= loan.drop(['Loan_Status','Total_Income'],axis=1)\n",
    "y=loan['Loan_Status']"
   ]
  },
  {
   "cell_type": "markdown",
   "id": "1f464c60",
   "metadata": {},
   "source": [
    "### importing model "
   ]
  },
  {
   "cell_type": "code",
   "execution_count": 34,
   "id": "808f7d40",
   "metadata": {},
   "outputs": [],
   "source": [
    "from sklearn.naive_bayes import  GaussianNB\n",
    "from sklearn.neighbors import KNeighborsClassifier\n",
    "from sklearn.linear_model import LogisticRegression\n",
    "from sklearn.tree import DecisionTreeClassifier\n",
    "from sklearn.ensemble import RandomForestClassifier\n",
    "from sklearn.ensemble import AdaBoostClassifier\n",
    "from sklearn.svm import SVC\n",
    "from sklearn.ensemble import GradientBoostingClassifier\n",
    "from xgboost import XGBClassifier\n",
    "from sklearn.metrics import accuracy_score,confusion_matrix,classification_report,roc_auc_score,roc_curve,plot_roc_curve\n",
    "from sklearn.model_selection import train_test_split, cross_val_score"
   ]
  },
  {
   "cell_type": "markdown",
   "id": "2fd24630",
   "metadata": {},
   "source": [
    "###### finding best random state "
   ]
  },
  {
   "cell_type": "code",
   "execution_count": 35,
   "id": "1b13ab3d",
   "metadata": {},
   "outputs": [
    {
     "name": "stdout",
     "output_type": "stream",
     "text": [
      "\n",
      "max random state: 63\n"
     ]
    }
   ],
   "source": [
    "maxx=0\n",
    "model=LogisticRegression()\n",
    "for i in range(1,201):\n",
    "    x_train,x_test,y_train,y_test=train_test_split(x,y,test_size=0.25,random_state=i)\n",
    "    model.fit(x_train,y_train)\n",
    "    pred=model.predict(x_test)\n",
    "    accu=accuracy_score(y_test,pred)\n",
    "    if accu>maxx:\n",
    "        maxx=accu\n",
    "        random_state_=i\n",
    "print('\\nmax random state:',random_state_)"
   ]
  },
  {
   "cell_type": "markdown",
   "id": "e3533def",
   "metadata": {},
   "source": [
    "### train test split"
   ]
  },
  {
   "cell_type": "code",
   "execution_count": 36,
   "id": "519250e9",
   "metadata": {},
   "outputs": [],
   "source": [
    "x_train,x_test,y_train,y_test=train_test_split(x,y,test_size=.25,random_state=random_state_)"
   ]
  },
  {
   "cell_type": "markdown",
   "id": "d66f720e",
   "metadata": {},
   "source": [
    "######  prediction with cross validation"
   ]
  },
  {
   "cell_type": "code",
   "execution_count": 37,
   "id": "02b4d87c",
   "metadata": {},
   "outputs": [
    {
     "name": "stdout",
     "output_type": "stream",
     "text": [
      "--------------------------LogisticRegression------------------\n",
      "\n",
      "accuracy score:87.01%\n",
      "\n",
      "cross validation score:80.96%\n",
      "\n",
      "auc roc score:78.26%\n",
      "\n",
      "\n",
      "classification report:\n",
      "\n",
      "              precision    recall  f1-score   support\n",
      "\n",
      "           0       1.00      0.57      0.72        46\n",
      "           1       0.84      1.00      0.92       108\n",
      "\n",
      "    accuracy                           0.87       154\n",
      "   macro avg       0.92      0.78      0.82       154\n",
      "weighted avg       0.89      0.87      0.86       154\n",
      "\n",
      "\n",
      "confusioon matrix:\n",
      "\n",
      "[[ 26  20]\n",
      " [  0 108]]\n"
     ]
    }
   ],
   "source": [
    "# LogisticRegression model  \n",
    "lr=LogisticRegression()\n",
    "lr.fit(x_train,y_train)\n",
    "pred=lr.predict(x_test)\n",
    "scr_=cross_val_score(lr,x,y,cv=10)\n",
    "print('--------------------------LogisticRegression------------------')\n",
    "print(f'\\naccuracy score:{accuracy_score(y_test,pred)*100:.2f}%\\n')\n",
    "print(f'cross validation score:{scr_.mean()*100:.2f}%\\n')\n",
    "print(f'auc roc score:{roc_auc_score(y_test,pred)*100:.2f}%\\n')\n",
    "print(f'\\nclassification report:\\n\\n{classification_report(y_test,pred)}\\n')\n",
    "print(f'confusioon matrix:\\n\\n{confusion_matrix(y_test,pred)}')"
   ]
  },
  {
   "cell_type": "code",
   "execution_count": 38,
   "id": "6d09d9ff",
   "metadata": {},
   "outputs": [
    {
     "name": "stdout",
     "output_type": "stream",
     "text": [
      "--------------------------Decision Tree Classifier------------------\n",
      "\n",
      "accuracy score:79.22%\n",
      "\n",
      "cross validation score:78.03%\n",
      "\n",
      "auc roc score:73.33%\n",
      "\n",
      "\n",
      "classification report:\n",
      "\n",
      "              precision    recall  f1-score   support\n",
      "\n",
      "           0       0.68      0.59      0.63        46\n",
      "           1       0.83      0.88      0.86       108\n",
      "\n",
      "    accuracy                           0.79       154\n",
      "   macro avg       0.75      0.73      0.74       154\n",
      "weighted avg       0.79      0.79      0.79       154\n",
      "\n",
      "\n",
      "confusioon matrix:\n",
      "\n",
      "[[27 19]\n",
      " [13 95]]\n"
     ]
    }
   ],
   "source": [
    "# decisiontree classifier model  \n",
    "dtc=DecisionTreeClassifier()\n",
    "dtc.fit(x_train,y_train)\n",
    "pred=dtc.predict(x_test)\n",
    "scr_=cross_val_score(dtc,x,y,cv=10)\n",
    "print('--------------------------Decision Tree Classifier------------------')\n",
    "print(f'\\naccuracy score:{accuracy_score(y_test,pred)*100:.2f}%\\n')\n",
    "print(f'cross validation score:{scr_.mean()*100:.2f}%\\n')\n",
    "print(f'auc roc score:{roc_auc_score(y_test,pred)*100:.2f}%\\n')\n",
    "print(f'\\nclassification report:\\n\\n{classification_report(y_test,pred)}\\n')\n",
    "print(f'confusioon matrix:\\n\\n{confusion_matrix(y_test,pred)}')"
   ]
  },
  {
   "cell_type": "code",
   "execution_count": 39,
   "id": "da9ab843",
   "metadata": {},
   "outputs": [
    {
     "name": "stdout",
     "output_type": "stream",
     "text": [
      "--------------------------KNeighbors Classifier------------------\n",
      "\n",
      "accuracy score:83.12%\n",
      "\n",
      "cross validation score:78.19%\n",
      "\n",
      "auc roc score:75.48%\n",
      "\n",
      "\n",
      "classification report:\n",
      "\n",
      "              precision    recall  f1-score   support\n",
      "\n",
      "           0       0.81      0.57      0.67        46\n",
      "           1       0.84      0.94      0.89       108\n",
      "\n",
      "    accuracy                           0.83       154\n",
      "   macro avg       0.82      0.75      0.78       154\n",
      "weighted avg       0.83      0.83      0.82       154\n",
      "\n",
      "\n",
      "confusioon matrix:\n",
      "\n",
      "[[ 26  20]\n",
      " [  6 102]]\n"
     ]
    }
   ],
   "source": [
    "# KNeighbors Classifier model\n",
    "knc=KNeighborsClassifier()\n",
    "knc.fit(x_train,y_train)\n",
    "pred=knc.predict(x_test)\n",
    "scr_=cross_val_score(knc,x,y,cv=10)\n",
    "print('--------------------------KNeighbors Classifier------------------')\n",
    "print(f'\\naccuracy score:{accuracy_score(y_test,pred)*100:.2f}%\\n')\n",
    "print(f'cross validation score:{scr_.mean()*100:.2f}%\\n')\n",
    "print(f'auc roc score:{roc_auc_score(y_test,pred)*100:.2f}%\\n')\n",
    "print(f'\\nclassification report:\\n\\n{classification_report(y_test,pred)}\\n')\n",
    "print(f'confusioon matrix:\\n\\n{confusion_matrix(y_test,pred)}')"
   ]
  },
  {
   "cell_type": "code",
   "execution_count": 40,
   "id": "3f09d6d0",
   "metadata": {},
   "outputs": [
    {
     "name": "stdout",
     "output_type": "stream",
     "text": [
      "--------------------------Support Vector Classifier------------------\n",
      "\n",
      "accuracy score:87.01%\n",
      "\n",
      "cross validation score:80.96%\n",
      "\n",
      "auc roc score:78.26%\n",
      "\n",
      "\n",
      "classification report:\n",
      "\n",
      "              precision    recall  f1-score   support\n",
      "\n",
      "           0       1.00      0.57      0.72        46\n",
      "           1       0.84      1.00      0.92       108\n",
      "\n",
      "    accuracy                           0.87       154\n",
      "   macro avg       0.92      0.78      0.82       154\n",
      "weighted avg       0.89      0.87      0.86       154\n",
      "\n",
      "\n",
      "confusioon matrix:\n",
      "\n",
      "[[ 26  20]\n",
      " [  0 108]]\n"
     ]
    }
   ],
   "source": [
    "# Support Vector Classifier model\n",
    "svc=SVC()\n",
    "svc.fit(x_train,y_train)\n",
    "pred=svc.predict(x_test)\n",
    "scr_=cross_val_score(svc,x,y,cv=10)\n",
    "print('--------------------------Support Vector Classifier------------------')\n",
    "print(f'\\naccuracy score:{accuracy_score(y_test,pred)*100:.2f}%\\n')\n",
    "print(f'cross validation score:{scr_.mean()*100:.2f}%\\n')\n",
    "print(f'auc roc score:{roc_auc_score(y_test,pred)*100:.2f}%\\n')\n",
    "print(f'\\nclassification report:\\n\\n{classification_report(y_test,pred)}\\n')\n",
    "print(f'confusioon matrix:\\n\\n{confusion_matrix(y_test,pred)}')"
   ]
  },
  {
   "cell_type": "code",
   "execution_count": 41,
   "id": "ca365fe4",
   "metadata": {},
   "outputs": [
    {
     "name": "stdout",
     "output_type": "stream",
     "text": [
      "--------------------------AdaBoost Classifier------------------\n",
      "\n",
      "accuracy score:87.01%\n",
      "\n",
      "cross validation score:80.96%\n",
      "\n",
      "auc roc score:78.26%\n",
      "\n",
      "\n",
      "classification report:\n",
      "\n",
      "              precision    recall  f1-score   support\n",
      "\n",
      "           0       1.00      0.57      0.72        46\n",
      "           1       0.84      1.00      0.92       108\n",
      "\n",
      "    accuracy                           0.87       154\n",
      "   macro avg       0.92      0.78      0.82       154\n",
      "weighted avg       0.89      0.87      0.86       154\n",
      "\n",
      "\n",
      "confusioon matrix:\n",
      "\n",
      "[[ 26  20]\n",
      " [  0 108]]\n"
     ]
    }
   ],
   "source": [
    "# GaussianNB Classifier model\n",
    "gnb=GaussianNB()\n",
    "gnb.fit(x_train,y_train)\n",
    "pred=gnb.predict(x_test)\n",
    "scr_=cross_val_score(gnb,x,y,cv=10)\n",
    "print('--------------------------AdaBoost Classifier------------------')\n",
    "print(f'\\naccuracy score:{accuracy_score(y_test,pred)*100:.2f}%\\n')\n",
    "print(f'cross validation score:{scr_.mean()*100:.2f}%\\n')\n",
    "print(f'auc roc score:{roc_auc_score(y_test,pred)*100:.2f}%\\n')\n",
    "print(f'\\nclassification report:\\n\\n{classification_report(y_test,pred)}\\n')\n",
    "print(f'confusioon matrix:\\n\\n{confusion_matrix(y_test,pred)}')"
   ]
  },
  {
   "cell_type": "code",
   "execution_count": 42,
   "id": "26f62a42",
   "metadata": {},
   "outputs": [
    {
     "name": "stdout",
     "output_type": "stream",
     "text": [
      "--------------------------RandomForest Classifier------------------\n",
      "\n",
      "accuracy score:81.17%\n",
      "\n",
      "cross validation score:78.68%\n",
      "\n",
      "auc roc score:74.72%\n",
      "\n",
      "\n",
      "classification report:\n",
      "\n",
      "              precision    recall  f1-score   support\n",
      "\n",
      "           0       0.73      0.59      0.65        46\n",
      "           1       0.84      0.91      0.87       108\n",
      "\n",
      "    accuracy                           0.81       154\n",
      "   macro avg       0.78      0.75      0.76       154\n",
      "weighted avg       0.81      0.81      0.81       154\n",
      "\n",
      "\n",
      "confusioon matrix:\n",
      "\n",
      "[[27 19]\n",
      " [10 98]]\n"
     ]
    }
   ],
   "source": [
    "# RandomForest Classifier model\n",
    "rfc=RandomForestClassifier()\n",
    "rfc.fit(x_train,y_train)\n",
    "pred=rfc.predict(x_test)\n",
    "scr_=cross_val_score(rfc,x,y,cv=10)\n",
    "print('--------------------------RandomForest Classifier------------------')\n",
    "print(f'\\naccuracy score:{accuracy_score(y_test,pred)*100:.2f}%\\n')\n",
    "print(f'cross validation score:{scr_.mean()*100:.2f}%\\n')\n",
    "print(f'auc roc score:{roc_auc_score(y_test,pred)*100:.2f}%\\n')\n",
    "print(f'\\nclassification report:\\n\\n{classification_report(y_test,pred)}\\n')\n",
    "print(f'confusioon matrix:\\n\\n{confusion_matrix(y_test,pred)}')"
   ]
  },
  {
   "cell_type": "code",
   "execution_count": 43,
   "id": "922c24fa",
   "metadata": {},
   "outputs": [
    {
     "name": "stdout",
     "output_type": "stream",
     "text": [
      "--------------------------AdaBoost Classifier------------------\n",
      "\n",
      "accuracy score:86.36%\n",
      "\n",
      "cross validation score:80.96%\n",
      "\n",
      "auc roc score:77.80%\n",
      "\n",
      "\n",
      "classification report:\n",
      "\n",
      "              precision    recall  f1-score   support\n",
      "\n",
      "           0       0.96      0.57      0.71        46\n",
      "           1       0.84      0.99      0.91       108\n",
      "\n",
      "    accuracy                           0.86       154\n",
      "   macro avg       0.90      0.78      0.81       154\n",
      "weighted avg       0.88      0.86      0.85       154\n",
      "\n",
      "\n",
      "confusioon matrix:\n",
      "\n",
      "[[ 26  20]\n",
      " [  1 107]]\n"
     ]
    }
   ],
   "source": [
    "# AdaBoost Classifier model\n",
    "abc=AdaBoostClassifier()\n",
    "abc.fit(x_train,y_train)\n",
    "pred=abc.predict(x_test)\n",
    "scr_=cross_val_score(abc,x,y,cv=10)\n",
    "print('--------------------------AdaBoost Classifier------------------')\n",
    "print(f'\\naccuracy score:{accuracy_score(y_test,pred)*100:.2f}%\\n')\n",
    "print(f'cross validation score:{scr_.mean()*100:.2f}%\\n')\n",
    "print(f'auc roc score:{roc_auc_score(y_test,pred)*100:.2f}%\\n')\n",
    "print(f'\\nclassification report:\\n\\n{classification_report(y_test,pred)}\\n')\n",
    "print(f'confusioon matrix:\\n\\n{confusion_matrix(y_test,pred)}')"
   ]
  },
  {
   "cell_type": "code",
   "execution_count": 44,
   "id": "c96fb29e",
   "metadata": {},
   "outputs": [
    {
     "name": "stdout",
     "output_type": "stream",
     "text": [
      "--------------------------AdaBoost Classifier------------------\n",
      "\n",
      "accuracy score:79.87%\n",
      "\n",
      "cross validation score:78.35%\n",
      "\n",
      "auc roc score:73.17%\n",
      "\n",
      "\n",
      "classification report:\n",
      "\n",
      "              precision    recall  f1-score   support\n",
      "\n",
      "           0       0.70      0.57      0.63        46\n",
      "           1       0.83      0.90      0.86       108\n",
      "\n",
      "    accuracy                           0.80       154\n",
      "   macro avg       0.77      0.73      0.74       154\n",
      "weighted avg       0.79      0.80      0.79       154\n",
      "\n",
      "\n",
      "confusioon matrix:\n",
      "\n",
      "[[26 20]\n",
      " [11 97]]\n"
     ]
    }
   ],
   "source": [
    "# XGB Classifier model\n",
    "xgb=XGBClassifier()\n",
    "xgb.fit(x_train,y_train)\n",
    "pred=xgb.predict(x_test)\n",
    "scr_=cross_val_score(xgb,x,y,cv=10)\n",
    "print('--------------------------AdaBoost Classifier------------------')\n",
    "print(f'\\naccuracy score:{accuracy_score(y_test,pred)*100:.2f}%\\n')\n",
    "print(f'cross validation score:{scr_.mean()*100:.2f}%\\n')\n",
    "print(f'auc roc score:{roc_auc_score(y_test,pred)*100:.2f}%\\n')\n",
    "print(f'\\nclassification report:\\n\\n{classification_report(y_test,pred)}\\n')\n",
    "print(f'confusioon matrix:\\n\\n{confusion_matrix(y_test,pred)}')"
   ]
  },
  {
   "cell_type": "code",
   "execution_count": 45,
   "id": "eacdc7cb",
   "metadata": {},
   "outputs": [
    {
     "name": "stdout",
     "output_type": "stream",
     "text": [
      "--------------------------AdaBoost Classifier------------------\n",
      "\n",
      "accuracy score:80.52%\n",
      "\n",
      "cross validation score:79.82%\n",
      "\n",
      "auc roc score:74.26%\n",
      "\n",
      "\n",
      "classification report:\n",
      "\n",
      "              precision    recall  f1-score   support\n",
      "\n",
      "           0       0.71      0.59      0.64        46\n",
      "           1       0.84      0.90      0.87       108\n",
      "\n",
      "    accuracy                           0.81       154\n",
      "   macro avg       0.77      0.74      0.75       154\n",
      "weighted avg       0.80      0.81      0.80       154\n",
      "\n",
      "\n",
      "confusioon matrix:\n",
      "\n",
      "[[27 19]\n",
      " [11 97]]\n"
     ]
    }
   ],
   "source": [
    "# GradientBoosting Classifier model\n",
    "gbc=GradientBoostingClassifier()\n",
    "gbc.fit(x_train,y_train)\n",
    "pred=gbc.predict(x_test)\n",
    "scr_=cross_val_score(gbc,x,y,cv=10)\n",
    "print('--------------------------AdaBoost Classifier------------------')\n",
    "print(f'\\naccuracy score:{accuracy_score(y_test,pred)*100:.2f}%\\n')\n",
    "print(f'cross validation score:{scr_.mean()*100:.2f}%\\n')\n",
    "print(f'auc roc score:{roc_auc_score(y_test,pred)*100:.2f}%\\n')\n",
    "print(f'\\nclassification report:\\n\\n{classification_report(y_test,pred)}\\n')\n",
    "print(f'confusioon matrix:\\n\\n{confusion_matrix(y_test,pred)}')"
   ]
  },
  {
   "cell_type": "markdown",
   "id": "e859727b",
   "metadata": {},
   "source": [
    "### plotting auc roc curve "
   ]
  },
  {
   "cell_type": "code",
   "execution_count": 46,
   "id": "1387bbf8",
   "metadata": {},
   "outputs": [
    {
     "data": {
      "image/png": "[encoded data removed]",
      "text/plain": [
       "<Figure size 432x288 with 1 Axes>"
      ]
     },
     "metadata": {
      "needs_background": "light"
     },
     "output_type": "display_data"
    }
   ],
   "source": [
    "disp=plot_roc_curve(dtc,x_test,y_test)\n",
    "plot_roc_curve(lr,x_test,y_test,ax=disp.ax_) # ax_ = axes with confusion matrix , use to combine one model to others\n",
    "plot_roc_curve(knc,x_test,y_test,ax=disp.ax_)\n",
    "plot_roc_curve(rfc,x_test,y_test,ax=disp.ax_)\n",
    "plot_roc_curve(abc,x_test,y_test,ax=disp.ax_)\n",
    "plot_roc_curve(gbc,x_test,y_test,ax=disp.ax_)\n",
    "plot_roc_curve(svc,x_test,y_test,ax=disp.ax_)\n",
    "plot_roc_curve(xgb,x_test,y_test,ax=disp.ax_)\n",
    "plot_roc_curve(gnb,x_test,y_test,ax=disp.ax_)\n",
    "plt.legend(prop={'size':10},loc='lower right')\n",
    "plt.show()"
   ]
  },
  {
   "cell_type": "markdown",
   "id": "be503783",
   "metadata": {},
   "source": [
    "## HyperParameter Tuning"
   ]
  },
  {
   "cell_type": "markdown",
   "id": "137681f4",
   "metadata": {},
   "source": [
    "###### on the basis of best least difference best model is  GradientBoosting Classifier"
   ]
  },
  {
   "cell_type": "code",
   "execution_count": 47,
   "id": "7220b073",
   "metadata": {},
   "outputs": [
    {
     "name": "stdout",
     "output_type": "stream",
     "text": [
      "best parameters {'criterion': 'friedman_mse', 'learning_rate': 0.01, 'loss': 'deviance', 'n_estimators': 60}\n",
      "-------------------------- GradientBoosting Classifier------------------\n",
      "\n",
      "accuracy score:87.01%\n",
      "\n",
      "cross validation score:80.96%\n",
      "\n",
      "auc roc score:78.26%\n",
      "\n",
      "\n",
      "classification report:\n",
      "\n",
      "              precision    recall  f1-score   support\n",
      "\n",
      "           0       1.00      0.57      0.72        46\n",
      "           1       0.84      1.00      0.92       108\n",
      "\n",
      "    accuracy                           0.87       154\n",
      "   macro avg       0.92      0.78      0.82       154\n",
      "weighted avg       0.89      0.87      0.86       154\n",
      "\n",
      "\n",
      "confusioon matrix:\n",
      "\n",
      "[[ 26  20]\n",
      " [  0 108]]\n"
     ]
    }
   ],
   "source": [
    "from sklearn.model_selection import GridSearchCV\n",
    "\n",
    "parameters={ 'n_estimators' : [20,40,60,80,100],\n",
    "               'criterion' : ['friedman_mse','mse','mae'],\n",
    "               'learning_rate' : [0.001,0.0001,0.01,1],\n",
    "           'loss':['deviance','exponential']}\n",
    "clf=GridSearchCV(gbc,parameters)\n",
    "clf.fit(x_train,y_train)\n",
    "print('best parameters',clf.best_params_)\n",
    "\n",
    "gbc_new=clf.best_estimator_\n",
    "gbc_new.fit(x_train,y_train)\n",
    "pred=gbc_new.predict(x_test)\n",
    "scr_=cross_val_score(gbc_new,x,y,cv=10)\n",
    "print('-------------------------- GradientBoosting Classifier------------------')\n",
    "print(f'\\naccuracy score:{accuracy_score(y_test,pred)*100:.2f}%\\n')\n",
    "print(f'cross validation score:{scr_.mean()*100:.2f}%\\n')\n",
    "print(f'auc roc score:{roc_auc_score(y_test,pred)*100:.2f}%\\n')\n",
    "print(f'\\nclassification report:\\n\\n{classification_report(y_test,pred)}\\n')\n",
    "print(f'confusioon matrix:\\n\\n{confusion_matrix(y_test,pred)}')"
   ]
  },
  {
   "cell_type": "markdown",
   "id": "5ab52b5a",
   "metadata": {},
   "source": [
    "### plotting best model and model"
   ]
  },
  {
   "cell_type": "code",
   "execution_count": 48,
   "id": "a57d2df8",
   "metadata": {},
   "outputs": [
    {
     "data": {
      "image/png": "[encoded data removed]",
      "text/plain": [
       "<Figure size 432x288 with 1 Axes>"
      ]
     },
     "metadata": {
      "needs_background": "light"
     },
     "output_type": "display_data"
    }
   ],
   "source": [
    "disp=plot_roc_curve(abc,x_test,y_test)\n",
    "plot_roc_curve(gbc_new,x_test,y_test,ax=disp.ax_) # ax_ = axes with confusion matrix , use to combine one model to others\n",
    "plt.legend(prop={'size':10},loc='lower right')\n",
    "plt.show()"
   ]
  },
  {
   "cell_type": "markdown",
   "id": "185b398e",
   "metadata": {},
   "source": [
    "### plotting for best model after hyperparameter tuning"
   ]
  },
  {
   "cell_type": "code",
   "execution_count": 49,
   "id": "3d8f48e6",
   "metadata": {},
   "outputs": [
    {
     "data": {
      "image/png": "[encoded data removed]",
      "text/plain": [
       "<Figure size 432x288 with 1 Axes>"
      ]
     },
     "metadata": {
      "needs_background": "light"
     },
     "output_type": "display_data"
    }
   ],
   "source": [
    "disp=plot_roc_curve(gbc_new,x_test,y_test)\n",
    "plt.legend(prop={'size':10},loc='lower right')\n",
    "plt.show()"
   ]
  },
  {
   "cell_type": "code",
   "execution_count": 50,
   "id": "3ba66d07",
   "metadata": {},
   "outputs": [],
   "source": [
    "import pickle\n",
    "filename='loan_predict.pkl'\n",
    "pickle.dump(gbc_new,open(filename,'wb'))"
   ]
  },
  {
   "cell_type": "code",
   "execution_count": null,
   "id": "4eb7b499",
   "metadata": {},
   "outputs": [],
   "source": []
  },
  {
   "cell_type": "code",
   "execution_count": null,
   "id": "2499ec6d",
   "metadata": {},
   "outputs": [],
   "source": []
  },
  {
   "cell_type": "code",
   "execution_count": null,
   "id": "8d9a62f9",
   "metadata": {},
   "outputs": [],
   "source": []
  }
 ],
 "metadata": {
  "kernelspec": {
   "display_name": "Python 3",
   "language": "python",
   "name": "python3"
  },
  "language_info": {
   "codemirror_mode": {
    "name": "ipython",
    "version": 3
   },
   "file_extension": ".py",
   "mimetype": "text/x-python",
   "name": "python",
   "nbconvert_exporter": "python",
   "pygments_lexer": "ipython3",
   "version": "3.8.8"
  }
 },
 "nbformat": 4,
 "nbformat_minor": 5
}
